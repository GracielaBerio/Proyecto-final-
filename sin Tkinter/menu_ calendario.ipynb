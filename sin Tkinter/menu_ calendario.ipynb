{
 "cells": [
  {
   "cell_type": "markdown",
   "id": "3a2fb618",
   "metadata": {},
   "source": [
    "# Creando un menu para GUI (interface gráfica de usuaruio)\n",
    "\n",
    "En este archivo intentaremos crear una funcion que genere menus, los parametros que tomara en cuenta seran los siguientes\n",
    "\n",
    " - Posición en la pantalla fila, columna\n",
    " - Opcione que tendra el menú\n",
    " - funciones que ejecutara cada opción\n",
    " - Formato vertical u horizontal del menú\n",
    "\n",
    "Beneficios escalabiridad, reutilización\n",
    "\n",
    "Recursos Gráficos: la opción seleccionada se rodeara de un recuadro y al mismo tiempo pasara a estar en mayúscula, en cambio lo demás permanece en minúsculas sin recuadro\n",
    "\n"
   ]
  },
  {
   "cell_type": "code",
   "execution_count": 10,
   "id": "fc7b95f9",
   "metadata": {},
   "outputs": [],
   "source": [
    "import os      # se utiliza para cargar comando Clear screen\n",
    "import msvcrt  # Solo funciona en Windows, lo utilizaremos con el metodo get par obtener si los cursores o el enter se presiono \"tecla = msvcrt.getch()\"\n",
    "\n",
    "def generar_menu(fila, columna, opciones, funciones, orientacion='V'):\n",
    "    \"\"\"\n",
    "    Genera un menú interactivo en consola.\n",
    "    \n",
    "    Parámetros:\n",
    "    - fila (int): posición vertical del menú en pantalla\n",
    "    - columna (int): margen izquierdo del menú\n",
    "    - opciones (list): lista de textos para cada opción\n",
    "    - funciones (list): lista de funciones asociadas a cada opción\n",
    "    - orientacion (str): 'V' para vertical, 'H' para horizontal\n",
    "    \"\"\"\n",
    "    seleccion = 0  # Índice de la opción actualmente seleccionada\n",
    "\n",
    "    def mostrar_menu():\n",
    "        os.system('cls' if os.name == 'nt' else 'clear')\n",
    "        print(\"\\n\" * fila)\n",
    "\n",
    "        if orientacion.upper() == 'V':\n",
    "            # Renderizado vertical por bloques\n",
    "            for idx, opcion in enumerate(opciones):\n",
    "                texto = opcion.upper() if idx == seleccion else opcion.lower()\n",
    "                ancho = len(texto) + 2\n",
    "                bloque = [\n",
    "                    \" \" * columna + f\"┌{'─'*ancho}┐\" if idx == seleccion else \" \" * columna + \" \" * (ancho + 2),\n",
    "                    \" \" * columna + f\"│ {texto} │\" if idx == seleccion else \" \" * columna + f\"  {texto}\",\n",
    "                    \" \" * columna + f\"└{'─'*ancho}┘\" if idx == seleccion else \" \" * columna + \" \" * (ancho + 2)\n",
    "                ]\n",
    "                print(\"\\n\".join(bloque))\n",
    "        else:\n",
    "            # Renderizado horizontal por bloques\n",
    "            bloques = [[], [], []]\n",
    "            for idx, opcion in enumerate(opciones):\n",
    "                texto = opcion.upper() if idx == seleccion else opcion.lower()\n",
    "                ancho = len(texto) + 2\n",
    "                if idx == seleccion:\n",
    "                    bloques[0].append(f\"┌{'─'*ancho}┐\")\n",
    "                    bloques[1].append(f\"│ {texto} │\")\n",
    "                    bloques[2].append(f\"└{'─'*ancho}┘\")\n",
    "                else:\n",
    "                    espacio = len(texto) + 4\n",
    "                    bloques[0].append(\" \" * espacio)\n",
    "                    bloques[1].append(f\"  {texto}  \")\n",
    "                    bloques[2].append(\" \" * espacio)\n",
    "            for linea in bloques:\n",
    "                print(\" \" * columna + \"    \".join(linea))\n",
    "\n",
    "    # Bucle principal de navegación\n",
    "    while True:\n",
    "        mostrar_menu()\n",
    "        tecla = msvcrt.getch()\n",
    "        if tecla in [b'\\xe0', b'\\x00']:  # Flechas\n",
    "            flecha = msvcrt.getch()\n",
    "            if orientacion.upper() == 'V':\n",
    "                if flecha == b'H':  # Arriba\n",
    "                    seleccion = (seleccion - 1) % len(opciones)\n",
    "                elif flecha == b'P':  # Abajo\n",
    "                    seleccion = (seleccion + 1) % len(opciones)\n",
    "            else:\n",
    "                if flecha == b'K':  # Izquierda\n",
    "                    seleccion = (seleccion - 1) % len(opciones)\n",
    "                elif flecha == b'M':  # Derecha\n",
    "                    seleccion = (seleccion + 1) % len(opciones)\n",
    "        elif tecla == b'\\r':  # Enter\n",
    "            os.system('cls' if os.name == 'nt' else 'clear')\n",
    "            funciones[seleccion]()\n",
    "            if opciones[seleccion].lower() == \"salir\":\n",
    "                break"
   ]
  },
  {
   "cell_type": "markdown",
   "id": "ae29ab8a",
   "metadata": {},
   "source": [
    "### Decrlarar funciones provisorias para poner a prueba el menú: estas se declararan al inicio antes del Mnú y después de las librerías\n"
   ]
  },
  {
   "cell_type": "code",
   "execution_count": 11,
   "id": "dd82d951",
   "metadata": {},
   "outputs": [],
   "source": [
    "# Funciones asociadas a cada opción del menú\n",
    "def agregar_plan():\n",
    "    print(\"¡Hola! Has seleccionado la opción de saludo.\")\n",
    "    input(\"\\nPresiona cualquier tecla para continuar...\")\n",
    "\n",
    "def editar_plan():\n",
    "    print(\"Adiós. Gracias por usar el menú.\")\n",
    "    input(\"\\nPresiona cualquier tecla para continuar...\")\n",
    "\n",
    "def borrar_plan():\n",
    "    print(\"Este es un menú interactivo en consola usando Python.\")\n",
    "    input(\"\\nPresiona cualquier tecla para continuar...\")\n",
    "\n",
    "def imprimir_plan():\n",
    "    print(\"Este es un menú interactivo en consola usando Python.\")\n",
    "    input(\"\\nPresiona cualquier tecla para continuar...\")\n",
    "\n",
    "def salir():\n",
    "    print(\"Saliendo del programa. ¡Hasta pronto!\")\n",
    "    input(\"\\nPresiona cualquier tecla para salir...\")\n",
    "    exit()"
   ]
  },
  {
   "cell_type": "markdown",
   "id": "434640f7",
   "metadata": {},
   "source": [
    "### Declaramos los prámetros que se utulizaran en el llamado a la función\n",
    "### Haremos el llamado a la función que crea el menú"
   ]
  },
  {
   "cell_type": "code",
   "execution_count": null,
   "id": "e62c4ced",
   "metadata": {},
   "outputs": [
    {
     "name": "stdout",
     "output_type": "stream",
     "text": [
      "\n",
      "\n",
      "\n",
      "\n",
      "     ┌─────────┐                                                         \n",
      "     │ AGREGAR │      editar        borrar        imprimir        salir  \n",
      "     └─────────┘                                                         \n"
     ]
    }
   ],
   "source": [
    "# Opciones del menú y funciones asociadas\n",
    "opciones = [\"Agregar\", \"Editar\", \"Borrar\",\"Imprimir\", \"Salir\"]\n",
    "funciones = [agregar_plan, editar_plan,borrar_plan,imprimir_plan, salir]\n",
    "\n",
    "# Ejecutar el menú con orientación vertical o horizontal\n",
    "generar_menu(fila=3, columna=5, opciones=opciones, funciones=funciones, orientacion='H')  # Cambiá a 'H' si querés horizontal"
   ]
  }
 ],
 "metadata": {
  "kernelspec": {
   "display_name": "Python 3",
   "language": "python",
   "name": "python3"
  },
  "language_info": {
   "codemirror_mode": {
    "name": "ipython",
    "version": 3
   },
   "file_extension": ".py",
   "mimetype": "text/x-python",
   "name": "python",
   "nbconvert_exporter": "python",
   "pygments_lexer": "ipython3",
   "version": "3.11.3"
  }
 },
 "nbformat": 4,
 "nbformat_minor": 5
}
