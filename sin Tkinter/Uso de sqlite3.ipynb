{
 "cells": [
  {
   "cell_type": "markdown",
   "id": "6f82f8a8",
   "metadata": {},
   "source": [
    "### MySQL Lite (Minimalistic Edition)\n",
    "\n",
    "#### - Es un proyecto experimental alojado en GitHub que intenta ofrecer una versión ligera de MySQL, compatible con múltiples arquitecturas y sistemas operativos.\n",
    "#### - No es una librería oficial ni ampliamente adoptada.\n",
    "#### - Su enfoque está más orientado a entornos embebidos o sistemas con recursos limitados.\n",
    "\n",
    "\n",
    "#### Es un módulo incluido en la biblioteca estándar de Python que permite interactuar con bases de datos SQLite, que se almacenan en un único archivo .db o .sqlite. Ideal para aplicaciones educativas, prototipos, y sistemas que \n",
    "#### requieren persistencia sin infraestructura compleja.\n",
    "\n",
    "### Importar el módulo"
   ]
  },
  {
   "cell_type": "code",
   "execution_count": null,
   "id": "e3bc0853",
   "metadata": {},
   "outputs": [],
   "source": [
    "import sqlite3\n"
   ]
  },
  {
   "cell_type": "markdown",
   "id": "b50c9621",
   "metadata": {},
   "source": [
    "### Conectarse a una base de datos (o crearla si no existe)"
   ]
  },
  {
   "cell_type": "code",
   "execution_count": null,
   "id": "125f0c67",
   "metadata": {},
   "outputs": [],
   "source": [
    "conexion = sqlite3.connect(\"mi_base.db\")  # Crea o abre el archivo de base de datos"
   ]
  },
  {
   "cell_type": "markdown",
   "id": "b020004a",
   "metadata": {},
   "source": [
    "### Crear un cursor para ejecutar comandos SQL"
   ]
  },
  {
   "cell_type": "code",
   "execution_count": null,
   "id": "f4f90645",
   "metadata": {},
   "outputs": [],
   "source": [
    "cursor = conexion.cursor()"
   ]
  },
  {
   "cell_type": "markdown",
   "id": "55e4fa15",
   "metadata": {},
   "source": [
    "### Crear una tabla"
   ]
  },
  {
   "cell_type": "code",
   "execution_count": null,
   "id": "07d1b41e",
   "metadata": {},
   "outputs": [],
   "source": [
    "cursor.execute(\"\"\"\n",
    "CREATE TABLE IF NOT EXISTS alumnos (\n",
    "    id INTEGER PRIMARY KEY AUTOINCREMENT,\n",
    "    nombre TEXT NOT NULL,\n",
    "    edad INTEGER\n",
    ")\n",
    "\"\"\")"
   ]
  },
  {
   "cell_type": "markdown",
   "id": "12834ddb",
   "metadata": {},
   "source": [
    "### Insertar datos"
   ]
  },
  {
   "cell_type": "code",
   "execution_count": null,
   "id": "bff9268d",
   "metadata": {},
   "outputs": [],
   "source": [
    "cursor.execute(\"INSERT INTO alumnos (nombre, edad) VALUES (?, ?)\", (\"Ana\", 22))"
   ]
  },
  {
   "cell_type": "markdown",
   "id": "fb8d07da",
   "metadata": {},
   "source": [
    "### Consultar datos"
   ]
  },
  {
   "cell_type": "code",
   "execution_count": null,
   "id": "6f4c9165",
   "metadata": {},
   "outputs": [],
   "source": [
    "cursor.execute(\"SELECT * FROM alumnos\")\n",
    "for fila in cursor.fetchall():\n",
    "    print(fila)"
   ]
  },
  {
   "cell_type": "markdown",
   "id": "44aa1604",
   "metadata": {},
   "source": [
    "### Guardar cambios y cerrar conexión"
   ]
  },
  {
   "cell_type": "code",
   "execution_count": null,
   "id": "18cbbe7b",
   "metadata": {},
   "outputs": [],
   "source": [
    "conexion.commit()\n",
    "conexion.close()"
   ]
  },
  {
   "cell_type": "markdown",
   "id": "0d9e0559",
   "metadata": {},
   "source": [
    "### Realizaremos la conexión de la estructuras de tareas con una base de datos creada con SQLite3\n",
    "\n",
    "Estructura: \n",
    "\n",
    "tareas = [\n",
    "    \n",
    "{\"Título\": \"Revisar propuesta\", \"Fecha límite\": \"2025-10-03\", \"Prioridad\": \"Alta\"},\n",
    "\n",
    "{\"Título\": \"Ejercicios de grafos\", \"Fecha límite\": \"2025-10-15\", \"Prioridad\": \"Media\"},\n",
    "\n",
    "{\"Título\": \"Informe institucional\", \"Fecha límite\": \"2025-10-22\", \"Prioridad\": \"Baja\"},\n",
    "\n",
    "]\n"
   ]
  },
  {
   "cell_type": "code",
   "execution_count": null,
   "id": "b6abc4f2",
   "metadata": {},
   "outputs": [],
   "source": [
    "import sqlite3\n",
    "\n",
    "# Conexión a la base de datos\n",
    "conexion = sqlite3.connect(\"tareas.db\")\n",
    "cursor = conexion.cursor()\n",
    "\n",
    "# Crear tabla con campo de prioridad\n",
    "cursor.execute(\"\"\"\n",
    "CREATE TABLE IF NOT EXISTS tareas (\n",
    "    id INTEGER PRIMARY KEY AUTOINCREMENT,\n",
    "    titulo TEXT NOT NULL,\n",
    "    fecha_limite TEXT NOT NULL,\n",
    "    prioridad TEXT NOT NULL\n",
    ")\n",
    "\"\"\")\n",
    "\n",
    "# Insertar tareas en la tabla\n",
    "for tarea in tareas:\n",
    "    cursor.execute(\n",
    "        \"INSERT INTO tareas (titulo, fecha_limite, prioridad) VALUES (?, ?, ?)\",\n",
    "        (tarea[\"Título\"], tarea[\"Fecha límite\"], tarea[\"Prioridad\"])\n",
    "    )\n",
    "\n",
    "# Guardar cambios y mostrar resultados\n",
    "conexion.commit()\n",
    "cursor.execute(\"SELECT id, titulo, fecha_limite, prioridad FROM tareas\")\n",
    "for fila in cursor.fetchall():\n",
    "    print(f\"ID: {fila[0]} | Título: {fila[1]} | Fecha límite: {fila[2]} | Prioridad: {fila[3]}\")\n",
    "\n",
    "# Cerrar conexión\n",
    "conexion.close()"
   ]
  }
 ],
 "metadata": {
  "language_info": {
   "name": "python"
  }
 },
 "nbformat": 4,
 "nbformat_minor": 5
}
