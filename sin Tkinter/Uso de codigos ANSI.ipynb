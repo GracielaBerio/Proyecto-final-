{
 "cells": [
  {
   "cell_type": "markdown",
   "id": "47e44087",
   "metadata": {},
   "source": [
    "# Dando Color y formato a GUI \n",
    "### ¿Qué son las secuencias de escape ANSI?\n",
    "### - Son códigos especiales que comienzan con el carácter ESC (\\033 en Python) seguido de un corchete ([) y una serie de números y letras.\n",
    "### - Estos códigos son interpretados por la terminal para modificar la apariencia del texto o el comportamiento del cursor.\n",
    "### - Por ejemplo, \\033[1m activa la negrita, y \\033[0m restablece el formato.\n",
    "\n",
    "### Aplicar los estilos ANSI en consola es tan simple como incluir las secuencias de escape ANSI directamente en los print() de Python. Estas secuencias comienzan con \\033[ (que representa el carácter de escape) seguido de uno ### o más códigos numéricos separados por punto y coma (;), y terminan con una letra que indica la acción (por ejemplo, m para formato de texto).\n"
   ]
  },
  {
   "cell_type": "code",
   "execution_count": null,
   "id": "db7eae8a",
   "metadata": {},
   "outputs": [],
   "source": [
    "print(\"\\033[1mTexto en negrita\\033[0m\")\n",
    "print(\"\\033[3mTexto en itálica\\033[0m\")\n",
    "print(\"\\033[4mTexto subrayado\\033[0m\")\n",
    "print(\"\\033[31mTexto rojo\\033[0m\")\n",
    "print(\"\\033[33;44mTexto amarillo sobre fondo azul\\033[0m\")\n",
    "print(\"\\033[1;32;47mTexto en negrita verde sobre fondo blanco\\033[0m\")"
   ]
  },
  {
   "cell_type": "markdown",
   "id": "85c8c2e9",
   "metadata": {},
   "source": [
    "### Los códigos ANSI son secuencias de escape utilizadas en terminales para aplicar formato visual al texto. Comienzan con \\033[ seguido de uno o más valores numéricos separados por punto y coma, y terminan con una letra que indica la acción (por ejemplo, m para modificar el estilo del texto). A continuación se detallan los principales códigos agrupados por categoría.\n",
    "\n",
    "#### Estilos de texto:\n",
    "- \\033[0m restablece todos los estilos aplicados.\n",
    "- \\033[1m aplica negrita.\n",
    "- \\033[2m atenúa el texto.\n",
    "- \\033[3m aplica itálica (no siempre soportado).\n",
    "- \\033[4m subraya el texto.\n",
    "- \\033[5m activa parpadeo lento.\n",
    "- \\033[7m invierte los colores de fondo y texto.\n",
    "- \\033[9m aplica tachado.\n",
    "\n",
    "#### Colores de texto (foreground):\n",
    "- \\033[30m negro\n",
    "- \\033[31m rojo\n",
    "- \\033[32m verde\n",
    "- \\033[33m amarillo\n",
    "- \\033[34m azul\n",
    "- \\033[35m magenta\n",
    "- \\033[36m cian\n",
    "- \\033[37m blanco\n",
    "\n",
    "#### Colores de fondo (background):\n",
    "- \\033[40m fondo negro\n",
    "- \\033[41m fondo rojo\n",
    "- \\033[42m fondo verde\n",
    "- \\033[43m fondo amarillo\n",
    "- \\033[44m fondo azul\n",
    "- \\033[45m fondo magenta\n",
    "- \\033[46m fondo cian\n",
    "- \\033[47m fondo blanco\n",
    "\n",
    "#### Ejemplos combinados:\n",
    "- \\033[1;33;44m aplica negrita, texto amarillo y fondo azul.\n",
    "- \\033[3;36;47m aplica itálica, texto cian y fondo blanco.\n",
    "- \\033[4;31;40m aplica subrayado, texto rojo y fondo negro.\n",
    "\n",
    "#### Es importante cerrar cada secuencia con \\033[0m para evitar que el estilo se propague al resto del texto. Estos códigos son útiles para resaltar información, crear menús interactivos, codificar prioridades o mejorar la experiencia visual en programas de consola.\n",
    "\n",
    "\n"
   ]
  },
  {
   "cell_type": "code",
   "execution_count": null,
   "id": "5e0dfa0c",
   "metadata": {},
   "outputs": [],
   "source": [
    "import random\n",
    "\n",
    "# Listas de códigos ANSI\n",
    "estilos = [\"\", \"\\033[1m\", \"\\033[2m\", \"\\033[3m\", \"\\033[4m\", \"\\033[5m\", \"\\033[7m\", \"\\033[9m\"]\n",
    "colores_texto = [\"\\033[30m\", \"\\033[31m\", \"\\033[32m\", \"\\033[33m\", \"\\033[34m\", \"\\033[35m\", \"\\033[36m\", \"\\033[37m\"]\n",
    "colores_fondo = [\"\\033[40m\", \"\\033[41m\", \"\\033[42m\", \"\\033[43m\", \"\\033[44m\", \"\\033[45m\", \"\\033[46m\", \"\\033[47m\"]\n",
    "\n",
    "# Cantidad de combinaciones a mostrar\n",
    "cantidad = 20\n",
    "\n",
    "print(\"Combinaciones ANSI al azar:\\n\")\n",
    "\n",
    "for i in range(cantidad):\n",
    "    estilo = random.choice(estilos)\n",
    "    color = random.choice(colores_texto)\n",
    "    fondo = random.choice(colores_fondo)\n",
    "    print(estilo + color + fondo + f\" Combinación {i+1} \" + \"\\033[0m\")"
   ]
  },
  {
   "cell_type": "markdown",
   "id": "7a9b8582",
   "metadata": {},
   "source": [
    "Qué hace el ejemplo\n",
    "\n",
    "- Usa random.choice() para seleccionar al azar un estilo, un color de texto y un color de fondo.\n",
    "- Muestra 20 combinaciones distintas, cada una con su propio formato visual.\n",
    "- Cierra cada línea con \\033[0m para evitar que el estilo se propague.\n",
    "\n",
    "Podés ajustar la cantidad de combinaciones, o incluso agregar etiquetas educativas como “Prioridad alta” o “Estado crítico” para usarlo en tus sistemas. ¿Querés que lo vinculemos con un generador de etiquetas para tareas?"
   ]
  }
 ],
 "metadata": {
  "language_info": {
   "name": "python"
  }
 },
 "nbformat": 4,
 "nbformat_minor": 5
}
