{
 "cells": [
  {
   "cell_type": "markdown",
   "id": "d0aec316",
   "metadata": {},
   "source": [
    "#**Planificador de Tareas — Versión Escritorio (Python)**\n",
    "\n"
   ]
  },
  {
   "cell_type": "markdown",
   "id": "5805560a",
   "metadata": {},
   "source": [
    "##**Descripción del programa**\n",
    "\n",
    "El **Planificador de Tareas — Versión Escritorio** es una aplicación desarrollada en **Python** con interfaz gráfica basada en **Tkinter**.\n",
    "Permite **organizar, registrar y visualizar tareas** de manera sencilla y eficiente.\n",
    "Utiliza una base de datos **SQLite** para almacenar la información y ofrece compatibilidad opcional con **tkcalendar**, mejorando la interacción mediante un calendario visual.\n",
    "\n",
    "La herramienta fue diseñada para ofrecer una **experiencia accesible y adaptable**, enfocada en la gestión de actividades personales, académicas o laborales desde el entorno de escritorio."
   ]
  },
  {
   "cell_type": "markdown",
   "id": "434ee62b",
   "metadata": {},
   "source": [
    "##**Características principales**\n",
    "\n",
    "- **Gestión completa de tareas**: agregar, editar, eliminar y consultar.\n",
    "- **Base de datos local (SQLite)**: persistencia de datos sin necesidad de conexión a internet.\n",
    "- **Búsqueda rápida y filtrado** por texto o prioridad.\n",
    "- **Ordenamiento dinámico** de columnas en la tabla de tareas.\n",
    "- **Notificaciones automáticas** sobre tareas próximas a vencer (dentro de los próximos 3 días).\n",
    "- **Calendario interactivo** (si está instalado tkcalendar) con eventos codificados por colores según prioridad.\n",
    "- **Compatibilidad multiplataforma**: Windows, Linux y macOS.\n",
    "- **Interfaz limpia y adaptable**, implementada con ttk y estilos visuales modernos."
   ]
  },
  {
   "cell_type": "markdown",
   "id": "32e1346c",
   "metadata": {},
   "source": [
    "##**Validaciones integradas**\n",
    "\n",
    "El programa implementa validaciones automáticas en las operaciones más comunes:\n",
    "\n",
    "- **Campo obligatorio:** el título de la tarea no puede estar vacío.\n",
    "- **Formato de fecha:** se valida que cumpla con YYYY-MM-DD; si tkcalendar está disponible, se utiliza un selector visual.\n",
    "- **Prioridad válida:** solo se permiten los valores \"Alta\", \"Media\" o \"Baja\".\n",
    "- **Confirmación antes de eliminar:** siempre solicita verificación del usuario.\n",
    "- **Gestión de errores controlada:** muestra mensajes claros en caso de fallos o datos inválidos."
   ]
  },
  {
   "cell_type": "markdown",
   "id": "39062fb2",
   "metadata": {},
   "source": [
    "##**Visualización en calendario**\n",
    "\n",
    "Si se encuentra instalado el módulo tkcalendar, la interfaz incluye un **calendario mensual** interactivo que permite:\n",
    "\n",
    "- Seleccionar fechas para filtrar tareas.\n",
    "- Marcar automáticamente las fechas con tareas registradas.\n",
    "- Colorear las tareas según su **nivel de prioridad**:\n",
    "  - **Alta** — Rojo\n",
    "  - **Media** — Amarillo\n",
    "  - **Baja** — Verde\n",
    "- Mostrar todas las tareas o filtrar por día con un solo clic."
   ]
  },
  {
   "cell_type": "markdown",
   "id": "ebe565fd",
   "metadata": {},
   "source": [
    "## **Estructura modular**\n",
    "\n",
    "El programa se organiza en módulos funcionales dentro del mismo archivo Planificador_de_tareas_v10.py, favoreciendo la claridad y mantenibilidad del código:\n",
    "\n",
    "1. **Funciones de base de datos (CRUD)** — conexión y operaciones sobre tareas.db.\n",
    "2. **Funciones utilitarias** — manejo de fechas y notificaciones visuales.\n",
    "3. **Clase principal AplicacionTareas** — interfaz gráfica, manejo de eventos y coordinación general.\n",
    "4. **Clase DialogoAgregarEditar** — ventanas emergentes para agregar o editar tareas.\n",
    "5. **Bloque principal de ejecución (`if __name__ == \"__main__\":)** — inicialización de la aplicación."
   ]
  },
  {
   "cell_type": "markdown",
   "id": "2f8bcc7d",
   "metadata": {},
   "source": [
    "## **Esquema de la interfaz gráfica (GUI) en texto plano**\n",
    "\n",
    "```\n",
    "┌───────────────────────────────────────────────────────────────┐\n",
    "│              PLANIFICADOR DE TAREAS (Tkinter)                 │\n",
    "├───────────────────────────────────────────────────────────────┤\n",
    "│ [ Calendario ]         |  [ Lista de tareas ]                 │\n",
    "│                        |--------------------------------------│\n",
    "│ (Eventos por fecha)    |  ID | Título | Descripción | Fecha   │\n",
    "│                        |     |        | Prioridad             │\n",
    "│------------------------|--------------------------------------│\n",
    "│ [Mostrar todas] [Actualizar calendario]   [Buscar: ____]      │\n",
    "│ [Agregar] [Editar] [Eliminar] [Salir]                         │\n",
    "└───────────────────────────────────────────────────────────────┘\n",
    "```\n",
    "\n",
    "- Panel izquierdo: calendario (opcional).\n",
    "- Panel derecho: tabla principal con tareas y barra de búsqueda.\n",
    "- Zona inferior: botones de acción."
   ]
  },
  {
   "cell_type": "markdown",
   "id": "6a96fe88",
   "metadata": {},
   "source": [
    "## **ESTRUCTURA DE MÓDULOS Y FUNCIONES**\n",
    "\n",
    "| Módulo / Clase / Función | Descripción |\n",
    "|---------------------------|--------------|\n",
    "| iniciar_bd() | Crea la base de datos y la tabla tareas si no existen. |\n",
    "| obtener_tareas() | Devuelve una lista filtrada de tareas desde la base de datos. |\n",
    "| agregar_tarea() | Inserta una nueva tarea en la tabla. |\n",
    "| actualizar_tarea() | Actualiza los datos de una tarea existente. |\n",
    "| eliminar_tarea() | Borra una tarea por su ID. |\n",
    "| parsear_fecha_segura() | Verifica y convierte una cadena de texto a objeto datetime. |\n",
    "| mostrar_globo() | Muestra una notificación flotante en pantalla. |\n",
    "| AplicacionTareas | Clase principal que define la GUI, los eventos y las funciones principales. |\n",
    "| DialogoAgregarEditar | Clase para las ventanas de edición y alta de tareas. |\n",
    "| marcar_tareas_en_calendario() | Pinta las fechas con tareas registradas según prioridad. |\n",
    "| verificar_proximas() | Notifica automáticamente las tareas con vencimiento próximo. |"
   ]
  },
  {
   "cell_type": "markdown",
   "id": "3d060d06",
   "metadata": {},
   "source": [
    "##**Diagrama de flujo (texto plano)**\n",
    "\n",
    "```\n",
    "[Inicio del programa]\n",
    "        │\n",
    "        ▼\n",
    " [iniciar_bd()]\n",
    "        │\n",
    "        ▼\n",
    "[Crear ventana principal Tkinter]\n",
    "        │\n",
    "        ▼\n",
    "[Clase AplicacionTareas]\n",
    "        │\n",
    "        ├──► crear_estilo()\n",
    "        ├──► crear_widgets()\n",
    "        ├──► refrescar_tareas()\n",
    "        ├──► verificar_proximas()\n",
    "        │\n",
    "        ▼\n",
    "[Interacción del usuario]\n",
    "        │\n",
    "        ├──► Agregar tarea → agregar_tarea() → refrescar_tareas()\n",
    "        ├──► Editar tarea → actualizar_tarea() → refrescar_tareas()\n",
    "        ├──► Eliminar tarea → eliminar_tarea() → refrescar_tareas()\n",
    "        ├──► Filtrar / Buscar / Ordenar\n",
    "        └──► Seleccionar fecha → mostrar tareas de ese día\n",
    "        │\n",
    "        ▼\n",
    "[Notificación de tareas próximas]\n",
    "        │\n",
    "        ▼\n",
    "[Fin / Cierre del programa]\n",
    "```"
   ]
  }
 ],
 "metadata": {
  "language_info": {
   "name": "python"
  }
 },
 "nbformat": 4,
 "nbformat_minor": 5
}
