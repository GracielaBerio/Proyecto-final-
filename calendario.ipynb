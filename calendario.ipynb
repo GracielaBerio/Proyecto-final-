{
 "cells": [
  {
   "cell_type": "markdown",
   "id": "f3c655db",
   "metadata": {},
   "source": [
    "# Calendario\n",
    "## Funcionalidad\n",
    "### - Registro de tareas: Cada tarea incluye título y fecha límite, permitiendo organizar actividades con claridad.\n",
    "### - Visualización mensual: El programa genera un calendario textual del mes seleccionado, alineado correctamente con los días de la semana.\n",
    "### - Marcado de días activos: Los días que tienen tareas registradas se destacan con un asterisco, facilitando la identificación rápida de fechas clave.\n",
    "### - Listado de tareas: Al final del calendario, se muestra un resumen de las tareas registradas, ordenadas por día."
   ]
  },
  {
   "cell_type": "code",
   "execution_count": 7,
   "id": "5cfaf873",
   "metadata": {},
   "outputs": [],
   "source": [
    "# Lista de tareas con fecha en formato AAAA-MM-DD\n",
    "tareas = [\n",
    "    {\"Título\": \"Revisar propuesta\", \"Fecha límite\": \"2025-10-03\"},\n",
    "    {\"Título\": \"Ejercicios de grafos\", \"Fecha límite\": \"2025-10-15\"},\n",
    "    {\"Título\": \"Informe institucional\", \"Fecha límite\": \"2025-10-22\"},\n",
    "]"
   ]
  },
  {
   "cell_type": "markdown",
   "id": "f96cd6ea",
   "metadata": {},
   "source": [
    "#### Determinamos si es año bisiesto, ocurre cada 4 años, en estos caso son multipos de 4 y se determina con el residuo 0 de la division, también debe de cumplir con la condición no se cumpla el centenar.  Tambien es biciesto cada 400."
   ]
  },
  {
   "cell_type": "code",
   "execution_count": 8,
   "id": "e1b20efe",
   "metadata": {},
   "outputs": [],
   "source": [
    "\n",
    "# Verifica si un año es bisiesto\n",
    "def es_bisiesto(año):\n",
    "    return (año % 4 == 0 and año % 100 != 0) or (año % 400 == 0)\n",
    "\n"
   ]
  },
  {
   "cell_type": "markdown",
   "id": "9cc42727",
   "metadata": {},
   "source": [
    "#### Determinamos cuantos dias tiene el mes a dibujar, si es el mes de febrero dererminamos si es biciesto con la funcion aneteriormente desarrollada y le adjudicamos el 28 o 29 segun resultase el caso.\n",
    "#### si no fuese el mes de febrero verificamos los meses en los cuales los dias son 30, meses[4, 6, 9, 11](comparamos con los elemento de esta lista), si aun asi  no es es ninguno de estos pasa a valer 31"
   ]
  },
  {
   "cell_type": "code",
   "execution_count": 9,
   "id": "ec125854",
   "metadata": {},
   "outputs": [],
   "source": [
    "# Devuelve la cantidad de días que tiene un mes determinado\n",
    "def dias_del_mes(mes, año):\n",
    "    if mes == 2:\n",
    "        return 29 if es_bisiesto(año) else 28\n",
    "    elif mes in [4, 6, 9, 11]:\n",
    "        return 30\n",
    "    else:\n",
    "        return 31"
   ]
  },
  {
   "cell_type": "markdown",
   "id": "98ce5276",
   "metadata": {},
   "source": [
    "#### Por defecto consideramos que el 0 es lunes en la grilla de valores del calendario pero en realidad no es asi, por lo que se realiza el calculo:h = (1 + 13*(mes+1)//5 + k + k//4 + j//4 + 5*j) % 7,\n",
    "#### return (h + 5) % 7 retorna los dias que se desfaza."
   ]
  },
  {
   "cell_type": "code",
   "execution_count": 10,
   "id": "d2179e89",
   "metadata": {},
   "outputs": [],
   "source": [
    "\n",
    "# Calcula el día de la semana del 1° del mes usando el algoritmo de Zeller\n",
    "# Devuelve un número entre 0 (lunes) y 6 (domingo)\n",
    "def dia_semana_primero(mes, año):\n",
    "    if mes < 3:\n",
    "        mes += 12\n",
    "        año -= 1\n",
    "    k = año % 100      # Últimos dos dígitos del año\n",
    "    j = año // 100     # Siglo\n",
    "    h = (1 + 13*(mes+1)//5 + k + k//4 + j//4 + 5*j) % 7\n",
    "    return (h + 5) % 7  # Ajuste para que 0 = lunes"
   ]
  },
  {
   "cell_type": "markdown",
   "id": "2044e82e",
   "metadata": {},
   "source": [
    "\n",
    "### Extrae los días del mes que tienen tareas registradas\n",
    "#### def dias_con_tareas(mes, año):\n",
    "####    dias = set()  # Se crea un conjunto vacío para almacenar los días únicos con tareas\n",
    "####    for tarea in tareas:  # Se recorre cada tarea en la lista global 'tareas'\n",
    "####        fecha = tarea[\"Fecha límite\"]  # Se obtiene la fecha límite como cadena (formato 'AAAA-MM-DD')\n",
    "####        a, m, d = map(int, fecha.split(\"-\"))  # Se separa la fecha en año, mes y día, y se convierte a enteros\n",
    "####\n",
    "####        if a == año and m == mes:  # Se verifica si la tarea corresponde al mes y año solicitados\n",
    "####            dias.add(d)  # Si coincide, se agrega el día al conjunto 'dias'\n",
    "####\n",
    "####    return dias  \n",
    "#### Se devuelve el conjunto con los días que tienen tareas registradas"
   ]
  },
  {
   "cell_type": "code",
   "execution_count": null,
   "id": "9c65aff9",
   "metadata": {},
   "outputs": [],
   "source": [
    "\n",
    "# Extrae los días del mes que tienen tareas registradas\n",
    "\n",
    "def dias_con_tareas(mes, año):\n",
    "    dias = set()\n",
    "    for tarea in tareas:\n",
    "        fecha = tarea[\"Fecha límite\"]\n",
    "        a, m, d = map(int, fecha.split(\"-\"))\n",
    "        if a == año and m == mes:\n",
    "            dias.add(d)\n",
    "    return dias\n"
   ]
  },
  {
   "cell_type": "markdown",
   "id": "812d6fee",
   "metadata": {},
   "source": [
    "La función dias_con_tareas cumple un rol fundamental en el programa: identificar qué días del mes tienen tareas registradas. Para lograrlo, recorre la lista de tareas disponibles y filtra aquellas cuya fecha límite coincide con el mes y el año solicitados. Cada tarea contiene una fecha en formato \"AAAA-MM-DD\", que se divide en tres partes: año, mes y día. Si la tarea pertenece al mes y año que se está visualizando, se extrae el número del día y se agrega a un conjunto llamado dias.\n",
    "El uso de un conjunto (set) permite almacenar los días sin repeticiones y facilita la búsqueda rápida de coincidencias. Esta colección de días se utiliza luego en la función que imprime el calendario, para marcar visualmente los días activos con un asterisco. Así, el usuario puede identificar de forma inmediata qué fechas tienen tareas asignadas dentro del mes.\n",
    "En resumen, esta función actúa como un filtro inteligente que conecta la información de las tareas con la representación visual del calendario, permitiendo una planificación más clara y efectiva."
   ]
  },
  {
   "cell_type": "code",
   "execution_count": 12,
   "id": "15bc4098",
   "metadata": {},
   "outputs": [
    {
     "name": "stdout",
     "output_type": "stream",
     "text": [
      "       \n",
      "Octubre 2025        \n",
      "Lun Mar Mié Jue Vie Sáb Dom\n",
      "          1   2  3*   4   5 \n",
      "  6   7   8   9  10  11  12 \n",
      " 13  14 15*  16  17  18  19 \n",
      " 20  21 22*  23  24  25  26 \n",
      " 27  28  29  30  31 \n",
      "\n",
      " Tareas registradas:\n",
      " - Día 3: Revisar propuesta\n",
      " - Día 15: Ejercicios de grafos\n",
      " - Día 22: Informe institucional\n"
     ]
    }
   ],
   "source": [
    "# Imprime el calendario mensual en consola, marcando los días con tareas\n",
    "def mostrar_calendario(mes, año):\n",
    "    nombre_meses = [\"Enero\", \"Febrero\", \"Marzo\", \"Abril\", \"Mayo\", \"Junio\",\n",
    "                    \"Julio\", \"Agosto\", \"Septiembre\", \"Octubre\", \"Noviembre\", \"Diciembre\"]\n",
    "    dias_semana = [\"Lun\", \"Mar\", \"Mié\", \"Jue\", \"Vie\", \"Sáb\", \"Dom\"]\n",
    "\n",
    "    # Encabezado con nombre del mes y año\n",
    "    print(f\"\\n{nombre_meses[mes-1]} {año}\".center(28))\n",
    "    print(\" \".join(dias_semana))\n",
    "\n",
    "    primer_dia = dia_semana_primero(mes, año)      # Día de la semana del 1°\n",
    "    total_dias = dias_del_mes(mes, año)            # Total de días del mes\n",
    "    marcados = dias_con_tareas(mes, año)           # Días con tareas\n",
    "\n",
    "    # Espacios en blanco antes del primer día\n",
    "    print(\"    \" * primer_dia, end=\"\")\n",
    "\n",
    "    dia_actual = 1\n",
    "    columna = primer_dia\n",
    "    while dia_actual <= total_dias:\n",
    "        # Si el día tiene tarea, se marca con asterisco\n",
    "        if dia_actual in marcados:\n",
    "            print(f\"{dia_actual:>2}*\", end=\" \")\n",
    "        else:\n",
    "            print(f\"{dia_actual:>3} \", end=\"\")\n",
    "        columna += 1\n",
    "        if columna == 7:\n",
    "            print()     # Salto de línea al final de la semana\n",
    "            columna = 0\n",
    "        dia_actual += 1\n",
    "    print(\"\\n\")\n",
    "\n",
    "    # Muestra las tareas registradas en ese mes\n",
    "    print(\" Tareas registradas:\")\n",
    "    for tarea in tareas:\n",
    "        a, m, d = map(int, tarea[\"Fecha límite\"].split(\"-\"))\n",
    "        if a == año and m == mes:\n",
    "            print(f\" - Día {d}: {tarea['Título']}\")\n",
    "\n",
    "# Ejemplo de uso: octubre 2025\n",
    "mostrar_calendario(10, 2025)"
   ]
  }
 ],
 "metadata": {
  "kernelspec": {
   "display_name": "Python 3",
   "language": "python",
   "name": "python3"
  },
  "language_info": {
   "codemirror_mode": {
    "name": "ipython",
    "version": 3
   },
   "file_extension": ".py",
   "mimetype": "text/x-python",
   "name": "python",
   "nbconvert_exporter": "python",
   "pygments_lexer": "ipython3",
   "version": "3.11.3"
  }
 },
 "nbformat": 4,
 "nbformat_minor": 5
}
